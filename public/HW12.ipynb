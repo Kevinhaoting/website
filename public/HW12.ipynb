{
 "cells": [
  {
   "cell_type": "markdown",
   "metadata": {},
   "source": [
    "# Homework 12"
   ]
  },
  {
   "cell_type": "markdown",
   "metadata": {},
   "source": [
    "*Enter your name and EID here*\n",
    "\n",
    "**This homework is due on Dec 10, 2019 at 11:59pm. Please submit as a PDF file on Canvas. Before submission, please re-run all cells by clicking \"Kernel\" and selecting \"Restart & Run All.\"**\n"
   ]
  },
  {
   "cell_type": "markdown",
   "metadata": {},
   "source": [
    "**Problem 1 (5 points):** In bioinformatics, k-mers refer to all the possible subsequences (of length k) from a read obtained through DNA sequencing. For example, if the DNA sequencing read is \"ATCATCATG\", then a the 3-mers in that read include \"ATC\" (which occurs twice), \"TCA\" (which occurs twice), \"CAT\" (occurs twice), and \"ATG\" (occurs once). You can read more about k-mers on [Wikipedia](https://en.wikipedia.org/wiki/K-mer).\n",
    "\n",
    "Write a function that takes a string of nucleotides as input and returns a **dictionary** with all 3-mers present in that string, and the number of times that each 3-mer occurs. Then use your function to find the 3-mers in the DNA sequence `my_seq1` defined below.\n",
    "\n",
    "The output of your function should be a dictionary that is structured like this (although it will have several more entries)\n",
    "\n",
    "`{\"CAG\": 2, \"AGC\": 1, \"GCC\": 3}`\n",
    "\n",
    "where each key is a 3-mer itself (e.g., \"ATC\") and each value is the number of times that 3-mer occurs.\n",
    "\n"
   ]
  },
  {
   "cell_type": "code",
   "execution_count": 1,
   "metadata": {},
   "outputs": [],
   "source": [
    "#this chunk lets you have multiple outputs from a single chunk; run it first!\n",
    "from IPython.core.interactiveshell import InteractiveShell\n",
    "InteractiveShell.ast_node_interactivity = \"all\""
   ]
  },
  {
   "cell_type": "code",
   "execution_count": 2,
   "metadata": {},
   "outputs": [
    {
     "name": "stdout",
     "output_type": "stream",
     "text": [
      "my_seq1\n"
     ]
    },
    {
     "data": {
      "text/plain": [
       "{'ATC': 2, 'TCA': 2, 'CAT': 2, 'ATG': 1}"
      ]
     },
     "execution_count": 2,
     "metadata": {},
     "output_type": "execute_result"
    }
   ],
   "source": [
    "# Find all 3-mers in these two sequences\n",
    "my_seq1 = \"ATCATCATG\"\n",
    "my_seq2 = \"CAGCCCAATCAGGCTCTACTGCCACTAAACTTACGCAGGATATATTTACGCCGACGTACT\"\n",
    "\n",
    "def findmers(seq,k):\n",
    "    count = {}\n",
    "    kmers = len(seq) - k + 1\n",
    "    for i in range(kmers):\n",
    "        kmer = seq[i:i+k]\n",
    "        if kmer not in count:\n",
    "            count[kmer] = 0\n",
    "        count[kmer] += 1\n",
    "    return count\n",
    "\n",
    "print(\"my_seq1\")\n",
    "findmers(my_seq1,3)\n"
   ]
  },
  {
   "cell_type": "code",
   "execution_count": 3,
   "metadata": {},
   "outputs": [
    {
     "data": {
      "text/plain": [
       "{'CAG': 3,\n",
       " 'AGC': 1,\n",
       " 'GCC': 3,\n",
       " 'CCC': 1,\n",
       " 'CCA': 2,\n",
       " 'CAA': 1,\n",
       " 'AAT': 1,\n",
       " 'ATC': 1,\n",
       " 'TCA': 1,\n",
       " 'AGG': 2,\n",
       " 'GGC': 1,\n",
       " 'GCT': 1,\n",
       " 'CTC': 1,\n",
       " 'TCT': 1,\n",
       " 'CTA': 2,\n",
       " 'TAC': 4,\n",
       " 'ACT': 4,\n",
       " 'CTG': 1,\n",
       " 'TGC': 1,\n",
       " 'CAC': 1,\n",
       " 'TAA': 1,\n",
       " 'AAA': 1,\n",
       " 'AAC': 1,\n",
       " 'CTT': 1,\n",
       " 'TTA': 2,\n",
       " 'ACG': 3,\n",
       " 'CGC': 2,\n",
       " 'GCA': 1,\n",
       " 'GGA': 1,\n",
       " 'GAT': 1,\n",
       " 'ATA': 2,\n",
       " 'TAT': 2,\n",
       " 'ATT': 1,\n",
       " 'TTT': 1,\n",
       " 'CCG': 1,\n",
       " 'CGA': 1,\n",
       " 'GAC': 1,\n",
       " 'CGT': 1,\n",
       " 'GTA': 1}"
      ]
     },
     "execution_count": 3,
     "metadata": {},
     "output_type": "execute_result"
    }
   ],
   "source": [
    "findmers(my_seq2,3)"
   ]
  },
  {
   "cell_type": "markdown",
   "metadata": {},
   "source": [
    "**Problem 2a (3 points):** DNA sequences are typically stored in a format called FASTA (pronounced fast-ay). A single FASTA file may contain many different sequences. For example, you may have a FASTA file for a mouse, and each mouse gene sequence is stored as a separate sequence in that FASTA file. All sequences in a FASTA file begin on a new line with a greater-than symbol \"`>`\" (without quotes). \n",
    "\n",
    "Write a function that takes the *name* of a FASTA file as input, opens that file, counts the number of sequences in the file (by counting the number of lines in the file that start with a “>” symbol), and returns the count. Download the file \"[ls_orchid.fasta](https://raw.githubusercontent.com/biopython/biopython/master/Doc/examples/ls_orchid.fasta)\" to your computer (should also be on Canvas and on the servers), upload it to your home directory, and use your function to count the number of sequences in the file (by determining the number of greater-than symbols. The file `ls_orchid.fasta` contains nucleotide database results for lady slipper orchids. Test your function on that! Now use the function on the file `CD4.fasta` (on Canvas and on the servers). This file contains amino acid sequences of the CD4 membrane protein that is found on the surface of the immune cells.\n",
    "\n",
    "How many sequences does each fasta file contain?"
   ]
  },
  {
   "cell_type": "code",
   "execution_count": 4,
   "metadata": {},
   "outputs": [
    {
     "name": "stdout",
     "output_type": "stream",
     "text": [
      "94\n"
     ]
    }
   ],
   "source": [
    "#The following code opens the file, reads it into contents, and closes the file\n",
    "\n",
    "file_handle = open(\"ls_orchid.fasta\", \"r\") # open in 'r' mode  to read the file\n",
    "contents = file_handle.read() # reads the entire file \n",
    "file_handle.close() # always close at the end\n",
    "\n",
    "def openAndCount(fasta):\n",
    "    count = 0\n",
    "    \n",
    "    file_handle = open(fasta, \"r\") # open in 'r' mode  to read the file\n",
    "    contents = file_handle.read() # reads the entire file \n",
    "     # always close at the end\n",
    "    \n",
    "    for line in contents:\n",
    "        if line[0] == \">\":\n",
    "            count += 1\n",
    "    return count\n",
    "    file_handle.close()\n",
    "print(openAndCount(\"ls_orchid.fasta\"))"
   ]
  },
  {
   "cell_type": "code",
   "execution_count": 5,
   "metadata": {},
   "outputs": [
    {
     "name": "stdout",
     "output_type": "stream",
     "text": [
      "number of dequences in CD4.fasta\n",
      "18\n"
     ]
    }
   ],
   "source": [
    "print(\"number of dequences in CD4.fasta\")\n",
    "print(openAndCount(\"CD4.fasta\"))"
   ]
  },
  {
   "cell_type": "markdown",
   "metadata": {},
   "source": [
    "**Problem 2b (2 points):** Often, you will use the biopython package to parse sequences (it makes it much easier)! Take a look at the following code and make sure the number of sequences it returns matches what your function found above (it is returning some extra stuff too). Modify it to give the same output for the CD4.fasta file and to print out the first 30 elements of each sequence."
   ]
  },
  {
   "cell_type": "code",
   "execution_count": 6,
   "metadata": {},
   "outputs": [
    {
     "ename": "ModuleNotFoundError",
     "evalue": "No module named 'Bio'",
     "output_type": "error",
     "traceback": [
      "\u001b[0;31m---------------------------------------------------------------------------\u001b[0m",
      "\u001b[0;31mModuleNotFoundError\u001b[0m                       Traceback (most recent call last)",
      "\u001b[0;32m<ipython-input-6-e574bb4cd56c>\u001b[0m in \u001b[0;36m<module>\u001b[0;34m\u001b[0m\n\u001b[1;32m      1\u001b[0m \u001b[0;31m#!pip3 install biopython # or conda install biopython #if you are not on the servers\u001b[0m\u001b[0;34m\u001b[0m\u001b[0;34m\u001b[0m\u001b[0;34m\u001b[0m\u001b[0m\n\u001b[1;32m      2\u001b[0m \u001b[0;34m\u001b[0m\u001b[0m\n\u001b[0;32m----> 3\u001b[0;31m \u001b[0;32mfrom\u001b[0m \u001b[0mBio\u001b[0m \u001b[0;32mimport\u001b[0m \u001b[0mSeqIO\u001b[0m\u001b[0;34m\u001b[0m\u001b[0;34m\u001b[0m\u001b[0m\n\u001b[0m\u001b[1;32m      4\u001b[0m \u001b[0;34m\u001b[0m\u001b[0m\n\u001b[1;32m      5\u001b[0m \u001b[0mnseqs\u001b[0m\u001b[0;34m=\u001b[0m\u001b[0;36m0\u001b[0m\u001b[0;34m\u001b[0m\u001b[0;34m\u001b[0m\u001b[0m\n",
      "\u001b[0;31mModuleNotFoundError\u001b[0m: No module named 'Bio'"
     ]
    }
   ],
   "source": [
    "#!pip3 install biopython # or conda install biopython #if you are not on the servers\n",
    "\n",
    "from Bio import SeqIO\n",
    "\n",
    "nseqs=0\n",
    "for seq_record in SeqIO.parse(\"ls_orchid.fasta\", \"fasta\"):\n",
    "    nseqs+=1\n",
    "    print(\"sequence\",nseqs,\"is\",len(seq_record),\\\n",
    "          \"long, and the first 5 elements are\",seq_record.seq[:5] )\n",
    "print(\"the number of sequences is\", nseqs)\n",
    "\n",
    "# Modify\n",
    "print()\n",
    "print(\"CD4\")\n",
    "nseqs=0\n",
    "for seq_record in SeqIO.parse(\"CD4.fasta\", \"fasta\"):\n",
    "    nseqs+=1\n",
    "    print(\"sequence\",nseqs,\"is\",len(seq_record),\\\n",
    "          \"long, and the first 30 elements are\",seq_record.seq[:30] )\n",
    "print(\"the number of sequences is\", nseqs)"
   ]
  },
  {
   "cell_type": "markdown",
   "metadata": {},
   "source": [
    "**Problem 3 (5 points):** Using **Needleman-Wunsch**, align the following two sequences by hand:\n",
    "\n",
    "```\n",
    "CCAGT\n",
    "ACAAGT\n",
    "```\n",
    "\n",
    "Draw out a score matrix, **with the back-tracing arrows**, using the following scoring function:\n",
    "\n",
    "```\n",
    "Match: +2\n",
    "Mismatch: -1\n",
    "Gap: -1\n",
    "```\n",
    "\n",
    "After you have filled out your score matrix, be sure to **write out the final alignment**.\n",
    "\n",
    "Take a picture of your handwork, upload it to the home directory on the server (or whatever directory you have this assignment in), and replacing `image_name.png` with the actual file name and extension, embed it below:"
   ]
  },
  {
   "cell_type": "code",
   "execution_count": null,
   "metadata": {},
   "outputs": [],
   "source": [
    "from IPython.display import Image\n",
    "Image(filename=\"finalAlignment.png\")"
   ]
  },
  {
   "cell_type": "markdown",
   "metadata": {},
   "source": [
    "**Problem 4 (5 points):** Using the code for the Needleman-Wunsch algorithm from class, create a function that runs the **Smith-Waterman** algorithm instead. You may **not** run Needleman-Wunsch and then zero out the negatives. Instead, modify the code to prevent negative values (e.g., by using max(var,0)). Your function final should produce the matrix of scores only. You **do not** need to do back-tracing. Use the same scoring values as above. \n",
    "\n",
    "Change the function name to sw_fun(). Run the sequences from Problem 3 through your function as well and confirm that the positive values are the same."
   ]
  },
  {
   "cell_type": "code",
   "execution_count": 25,
   "metadata": {},
   "outputs": [
    {
     "name": "stdout",
     "output_type": "stream",
     "text": [
      "sw_fun\n"
     ]
    },
    {
     "data": {
      "text/plain": [
       "array([[0., 0., 0., 0., 0., 0.],\n",
       "       [0., 2., 1., 0., 0., 0.],\n",
       "       [0., 1., 1., 0., 2., 1.],\n",
       "       [0., 0., 0., 3., 2., 1.],\n",
       "       [0., 0., 0., 2., 2., 1.],\n",
       "       [0., 0., 0., 1., 4., 3.],\n",
       "       [0., 0., 0., 0., 3., 6.]])"
      ]
     },
     "execution_count": 25,
     "metadata": {},
     "output_type": "execute_result"
    },
    {
     "name": "stdout",
     "output_type": "stream",
     "text": [
      "nw_function\n"
     ]
    },
    {
     "data": {
      "text/plain": [
       "array([[ 0., -1., -2., -3., -4., -5.],\n",
       "       [-1.,  2.,  1.,  0., -1., -2.],\n",
       "       [-2.,  1.,  1.,  0.,  2.,  1.],\n",
       "       [-3.,  0.,  0.,  3.,  2.,  1.],\n",
       "       [-4., -1., -1.,  2.,  2.,  1.],\n",
       "       [-5., -2., -2.,  1.,  4.,  3.],\n",
       "       [-6., -3.,  0.,  0.,  3.,  6.]])"
      ]
     },
     "execution_count": 25,
     "metadata": {},
     "output_type": "execute_result"
    },
    {
     "name": "stdout",
     "output_type": "stream",
     "text": [
      "\n",
      "Sq from Problem 3:\n",
      "nw_function\n"
     ]
    },
    {
     "data": {
      "text/plain": [
       "array([[ 0., -1., -2., -3., -4., -5.],\n",
       "       [-1., -1., -2.,  0., -1., -2.],\n",
       "       [-2.,  1.,  1.,  0., -1., -2.],\n",
       "       [-3.,  0.,  0.,  3.,  2.,  1.],\n",
       "       [-4., -1., -1.,  2.,  2.,  1.],\n",
       "       [-5., -2., -2.,  1.,  4.,  3.],\n",
       "       [-6., -3., -3.,  0.,  3.,  6.]])"
      ]
     },
     "execution_count": 25,
     "metadata": {},
     "output_type": "execute_result"
    },
    {
     "name": "stdout",
     "output_type": "stream",
     "text": [
      "\n",
      "sw_fun\n"
     ]
    },
    {
     "data": {
      "text/plain": [
       "array([[0., 0., 0., 0., 0., 0.],\n",
       "       [0., 0., 0., 0., 0., 0.],\n",
       "       [0., 1., 1., 0., 0., 0.],\n",
       "       [0., 0., 0., 3., 2., 1.],\n",
       "       [0., 0., 0., 2., 2., 1.],\n",
       "       [0., 0., 0., 1., 4., 3.],\n",
       "       [0., 0., 0., 0., 3., 6.]])"
      ]
     },
     "execution_count": 25,
     "metadata": {},
     "output_type": "execute_result"
    }
   ],
   "source": [
    "import numpy as np\n",
    "\n",
    "# Use these values to calculate scores\n",
    "match_score = 2\n",
    "mismatch_score = -1\n",
    "gap_penalty = -1\n",
    "\n",
    "# Make a score matrix with these two sequences\n",
    "seq1 = \"ATGAT\"\n",
    "seq2 = \"AAGGAT\"\n",
    "\n",
    "\n",
    "\n",
    "\n",
    "\n",
    "def match_fun(a,b):\n",
    "    if a == b:\n",
    "        score = 2\n",
    "    else:\n",
    "        score = -1\n",
    "    return score\n",
    "\n",
    "print(\"sw_fun\")\n",
    "\n",
    "def sw_fun(seq1,seq2,gap_penalty=-1, match_score=2, mismatch_score=-1):\n",
    "    m=len(seq1) #length of horizontal sequence\n",
    "    n=len(seq2) #length of vertical sequence\n",
    "    score=np.empty(shape=[n+1,m+1]) #array to hold scores\n",
    "   \n",
    "    for j in range(0, m + 1): score[0][j] = gap_penalty * j\n",
    "    \n",
    "    \n",
    "    for i in range(0, n + 1): score[i][0] = gap_penalty * i\n",
    "    \n",
    "   \n",
    "    \n",
    "    for i in range(1, n + 1): \n",
    "        for j in range(1, m + 1):\n",
    "            insert = score[i - 1][j] + gap_penalty \n",
    "            delete = score[i][j - 1] + gap_penalty \n",
    "            match = score[i - 1][j - 1] + match_fun(seq1[j-1], seq2[i-1])\n",
    "            \n",
    "            score[i][j] = max(match, delete, insert)\n",
    "    \n",
    "    for i in range(0,m+2):\n",
    "        for j in range(0,n):\n",
    "            if score[i][j] <0:\n",
    "                score[i][j] =0\n",
    "    return score\n",
    "\n",
    "sw_fun(seq1,seq2,gap_penalty,match_score,mismatch_score)\n",
    "\n",
    "\n",
    "\n",
    "\n",
    "\n",
    "\n",
    "def nw_function(seq1,seq2,gap_penalty= -1, match_score= 1, mismatch_score= -1):\n",
    "    m=len(seq1) #length of horizontal sequence\n",
    "    n=len(seq2) #length of vertical sequence\n",
    "    score=np.empty(shape=[n+1,m+1]) #array to hold scores\n",
    "   \n",
    "    for j in range(0, m + 1): score[0][j] = gap_penalty * j\n",
    "    for i in range(0, n + 1): score[i][0] = gap_penalty * i\n",
    "    \n",
    "    for i in range(1, n + 1): \n",
    "        for j in range(1, m + 1):\n",
    "            insert = score[i - 1][j] + gap_penalty \n",
    "            delete = score[i][j - 1] + gap_penalty \n",
    "            match = score[i - 1][j - 1] + match_fun(seq1[j-1], seq2[i-1])\n",
    "            score[i][j] = max(match, delete, insert)\n",
    "    \n",
    "    return score\n",
    "print(\"nw_function\")\n",
    "nw_function(seq1,seq2,gap_penalty,match_score,mismatch_score)\n",
    "\n",
    "\n",
    "print()\n",
    "print(\"Sq from Problem 3:\")\n",
    "seq3 = \"CCAGT\"\n",
    "seq4 = \"ACAAGT\"\n",
    "\n",
    "print(\"nw_function\")\n",
    "nw_function(seq3,seq4,gap_penalty,match_score,mismatch_score)\n",
    "print()\n",
    "print(\"sw_fun\")\n",
    "sw_fun(seq3,seq4,gap_penalty,match_score,mismatch_score)\n"
   ]
  },
  {
   "cell_type": "code",
   "execution_count": null,
   "metadata": {},
   "outputs": [],
   "source": []
  }
 ],
 "metadata": {
  "kernelspec": {
   "display_name": "Python 3",
   "language": "python",
   "name": "python3"
  },
  "language_info": {
   "codemirror_mode": {
    "name": "ipython",
    "version": 3
   },
   "file_extension": ".py",
   "mimetype": "text/x-python",
   "name": "python",
   "nbconvert_exporter": "python",
   "pygments_lexer": "ipython3",
   "version": "3.7.4"
  }
 },
 "nbformat": 4,
 "nbformat_minor": 1
}
